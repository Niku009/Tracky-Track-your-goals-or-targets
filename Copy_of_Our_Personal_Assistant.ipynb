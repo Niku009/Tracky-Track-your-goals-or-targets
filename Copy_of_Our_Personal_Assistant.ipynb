{
  "nbformat": 4,
  "nbformat_minor": 0,
  "metadata": {
    "colab": {
      "provenance": [],
      "authorship_tag": "ABX9TyPog9f5TjVuAbPJYT5Z2ShZ",
      "include_colab_link": true
    },
    "kernelspec": {
      "name": "python3",
      "display_name": "Python 3"
    },
    "language_info": {
      "name": "python"
    }
  },
  "cells": [
    {
      "cell_type": "markdown",
      "metadata": {
        "id": "view-in-github",
        "colab_type": "text"
      },
      "source": [
        "<a href=\"https://colab.research.google.com/github/Niku009/Tracky-Track-your-goals-or-targets/blob/master/Copy_of_Our_Personal_Assistant.ipynb\" target=\"_parent\"><img src=\"https://colab.research.google.com/assets/colab-badge.svg\" alt=\"Open In Colab\"/></a>"
      ]
    },
    {
      "cell_type": "code",
      "source": [
        "!pip install -q -U google-generativeai"
      ],
      "metadata": {
        "id": "0Um_4vhygvp1"
      },
      "execution_count": null,
      "outputs": []
    },
    {
      "cell_type": "code",
      "source": [
        "!pip install gTTS"
      ],
      "metadata": {
        "id": "zKltE1rSvcSm"
      },
      "execution_count": null,
      "outputs": []
    },
    {
      "cell_type": "code",
      "source": [
        "import pathlib\n",
        "import textwrap\n",
        "from gtts import gTTS\n",
        "\n",
        "import google.generativeai as genai\n",
        "\n",
        "from IPython.display import display\n",
        "from IPython.display import Markdown\n",
        "from IPython.display import Audio, display\n",
        "\n",
        "\n",
        "def to_markdown(text):\n",
        "  text = text.replace('•', '  *')\n",
        "  return Markdown(textwrap.indent(text, '> ', predicate=lambda _: True))\n",
        "\n",
        "genai.configure(api_key=GOOGLE_API_)"
      ],
      "metadata": {
        "id": "JHvR6e19fhwn"
      },
      "execution_count": null,
      "outputs": []
    },
    {
      "cell_type": "code",
      "source": [
        "from google.colab import userdata\n",
        "GOOGLE_API_ = userdata.get('GOOGLE_API_')\n",
        "model = genai.GenerativeModel('gemini-pro')"
      ],
      "metadata": {
        "id": "lL_2ezOxeajI"
      },
      "execution_count": null,
      "outputs": []
    },
    {
      "cell_type": "code",
      "execution_count": null,
      "metadata": {
        "id": "SeAKXzJbTDDr"
      },
      "outputs": [],
      "source": [
        "def ask_question(name):\n",
        "  ques = 'Hey' + name + 'what do you want ? '\n",
        "  ques = input(ques)\n",
        "  return ques"
      ]
    },
    {
      "cell_type": "code",
      "source": [
        "ask_question(\"sai\")"
      ],
      "metadata": {
        "colab": {
          "base_uri": "https://localhost:8080/",
          "height": 54
        },
        "id": "sBvSWtK7U_vT",
        "outputId": "7fab1798-3cd5-475c-9abb-95e4199d913c"
      },
      "execution_count": null,
      "outputs": [
        {
          "name": "stdout",
          "output_type": "stream",
          "text": [
            "Heysaiwhat do you want ? hi\n"
          ]
        },
        {
          "output_type": "execute_result",
          "data": {
            "text/plain": [
              "'hi'"
            ],
            "application/vnd.google.colaboratory.intrinsic+json": {
              "type": "string"
            }
          },
          "metadata": {},
          "execution_count": 77
        }
      ]
    },
    {
      "cell_type": "code",
      "source": [
        "def classify_question(ques):\n",
        "  goahead_with_web_search = False\n",
        "  device_lst = ['alarm','reminder','message','call']\n",
        "  personal_lst = ['who are you ?','who created you']\n",
        "\n",
        "  device = False\n",
        "  for i in device_lst:\n",
        "    if i in ques:\n",
        "      device = True\n",
        "\n",
        "    if device:\n",
        "      print(\"This question is related to device things, which is not support in our google assistant!\")\n",
        "\n",
        "    personal_question = False\n",
        "    for i in personal_lst:\n",
        "      if i in ques.lower():\n",
        "        personal_question = True\n",
        "\n",
        "        if personal_question:\n",
        "          print(\"Hey am a personal assistant created by Nikhil\")\n",
        "\n",
        "\n",
        "    if device:\n",
        "      goahead_with_web_search = False\n",
        "    elif personal_question:\n",
        "      goahead_with_web_search = False\n",
        "    else:\n",
        "      goahead_with_web_search = True\n",
        "\n",
        "    return goahead_with_web_search\n",
        "\n",
        "\n"
      ],
      "metadata": {
        "id": "MmtAusReVcck"
      },
      "execution_count": null,
      "outputs": []
    },
    {
      "cell_type": "code",
      "source": [
        "classify_question(\"who are you ?\")"
      ],
      "metadata": {
        "colab": {
          "base_uri": "https://localhost:8080/"
        },
        "id": "98tzOJ2TYnkg",
        "outputId": "bef3bb99-8de7-4678-8868-52d2c90d26b2"
      },
      "execution_count": null,
      "outputs": [
        {
          "output_type": "stream",
          "name": "stdout",
          "text": [
            "Hey am a personal assistant created by Nikhil\n"
          ]
        },
        {
          "output_type": "execute_result",
          "data": {
            "text/plain": [
              "False"
            ]
          },
          "metadata": {},
          "execution_count": 79
        }
      ]
    },
    {
      "cell_type": "code",
      "source": [
        "#start searching with google gemeni\n",
        "\n"
      ],
      "metadata": {
        "id": "JWYSzS5VdA6W"
      },
      "execution_count": null,
      "outputs": []
    },
    {
      "cell_type": "code",
      "source": [
        "def ask_gemini(ques):\n",
        "  modified_prompt = 'Hey give me the answer of thid question' + ques + ' in maximum of 40 words'\n",
        "  response = model.generate_content(modified_prompt)\n",
        "  to_markdown(response.text)\n",
        "  return response.text\n"
      ],
      "metadata": {
        "id": "Q4d4bXqdkxzp"
      },
      "execution_count": null,
      "outputs": []
    },
    {
      "cell_type": "code",
      "source": [
        "def speak(answer):\n",
        "  tts = gTTS(answer)\n",
        "  tts.save('audio.mp3')\n",
        "  display(Audio('audio.mp3', autoplay=True))"
      ],
      "metadata": {
        "id": "3M9s-9y-v8pT"
      },
      "execution_count": null,
      "outputs": []
    },
    {
      "cell_type": "code",
      "source": [
        "have_any_other_ques = 'y'\n",
        "name = ''\n",
        "\n",
        "while have_any_other_ques == 'y':\n",
        "\n",
        "\n",
        "  if name == '':\n",
        "     name = input(\"Hey what is your name ? - \")\n",
        "\n",
        "  q = ask_question(name)\n",
        "\n",
        "  go_ahead = classify_question(q)\n",
        "  answer = ''\n",
        "\n",
        "  if go_ahead == True:\n",
        "    answer = ask_gemini(q)\n",
        "    speak(answer)\n",
        "    print(answer)\n",
        "\n",
        "\n",
        "\n",
        "\n",
        "  have_any_other_ques = input(\"Do you have any other question ??\")"
      ],
      "metadata": {
        "colab": {
          "base_uri": "https://localhost:8080/",
          "height": 147
        },
        "id": "ILYx7iIFleEX",
        "outputId": "3ab3be75-bea5-42a7-ff8d-df4eee0a7f57"
      },
      "execution_count": null,
      "outputs": [
        {
          "name": "stdout",
          "output_type": "stream",
          "text": [
            "Hey what is your name ? - sai\n",
            "Heysaiwhat do you want ? i want to know how many cities are there in the word?\n"
          ]
        },
        {
          "output_type": "display_data",
          "data": {
            "text/plain": [
              "<IPython.lib.display.Audio object>"
            ],
            "text/html": [
              "\n",
              "                <audio  controls=\"controls\" autoplay=\"autoplay\">\n",
              "                    <source src=\"data:audio/mpeg;base64,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\" type=\"audio/mpeg\" />\n",
              "                    Your browser does not support the audio element.\n",
              "                </audio>\n",
              "              "
            ]
          },
          "metadata": {}
        },
        {
          "name": "stdout",
          "output_type": "stream",
          "text": [
            "It is impossible to determine the exact number of cities in the world as there is no single, universally accepted definition of what constitutes a city.\n",
            "Do you have any other question ??how many people stay in chandausi uttarpradesh india\n"
          ]
        }
      ]
    },
    {
      "cell_type": "code",
      "source": [
        "response = model.generate_content(\"What is the meaning of life?\")"
      ],
      "metadata": {
        "id": "uB7vpMvJhVzZ"
      },
      "execution_count": null,
      "outputs": []
    },
    {
      "cell_type": "code",
      "source": [
        "response.text"
      ],
      "metadata": {
        "id": "69uPjqnPjpxp"
      },
      "execution_count": null,
      "outputs": []
    },
    {
      "cell_type": "code",
      "source": [
        "to_markdown(response.text)"
      ],
      "metadata": {
        "id": "JJlYUDKCj0IX"
      },
      "execution_count": null,
      "outputs": []
    }
  ]
}